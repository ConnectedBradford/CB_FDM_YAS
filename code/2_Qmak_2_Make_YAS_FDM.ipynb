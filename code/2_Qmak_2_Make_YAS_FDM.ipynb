{
 "cells": [
  {
   "cell_type": "code",
   "execution_count": 9,
   "id": "79f3661f-676d-4c14-abd3-02660031f1e2",
   "metadata": {},
   "outputs": [
    {
     "name": "stdout",
     "output_type": "stream",
     "text": [
      "[1] \"yhcr-prd-phm-bia-core.CB_FDM_YAS_V1\"\n"
     ]
    }
   ],
   "source": [
    "#Qmak_Calderdale_FDM_FULL_V1.0.ipynb\n",
    "##last modified 20230309 \n",
    "\n",
    "#Builds the Calderdael SUS FDM\n",
    "#Assumes that the targetdb below exists\n",
    "#Needs code to build it if it doesn't\n",
    "\n",
    "#You will need to manually amend the target dataset for this script\n",
    "\n",
    "library(bigrquery)\n",
    "library(lubridate) \n",
    "\n",
    "# Store the project ID\n",
    "project_id = \"yhcr-prd-phm-bia-core\"\n",
    "\n",
    "sourcedb <-\"yhcr-prd-phm-bia-core.CB_STAGING_DATABASE_YAS_FDM_Format\"\n",
    "targetdb <-'yhcr-prd-phm-bia-core.CB_FDM_YAS_V1'\n",
    "targetdb <-gsub(' ','',targetdb)\n",
    "print (targetdb)"
   ]
  },
  {
   "cell_type": "code",
   "execution_count": 44,
   "id": "9465f23c-da4d-40fc-b404-3a1cf1f189c4",
   "metadata": {},
   "outputs": [
    {
     "name": "stdout",
     "output_type": "stream",
     "text": [
      "[1] \"Done care site\"\n"
     ]
    }
   ],
   "source": [
    "#build care sites just for Warehouse sites\n",
    "\n",
    "#NOTE - THIS WHOLE SECTION NEEDS WORK - DO NOT RUN\n",
    "\n",
    "sql1 <-paste('drop table if exists ',targetdb,'.care_site', sep = \"\")\n",
    "sql9 <-paste('create table ' ,targetdb,'.care_site as select distinct a.* from yhcr-prd-phm-bia-core.CB_FDM_MASTER.care_site a \n",
    "              where a.care_site_id = 160710', sep = \"\")\n",
    "\n",
    "#Now Run them \n",
    "tb1 <- bq_project_query(project_id, sql1)\n",
    "tb9 <- bq_project_query(project_id, sql9)\n",
    "\n",
    "\n",
    "print(\"Done care site\")"
   ]
  },
  {
   "cell_type": "code",
   "execution_count": 11,
   "id": "5b8a0930-0a78-4abb-b723-8a3f02701729",
   "metadata": {},
   "outputs": [
    {
     "data": {
      "text/html": [
       "<table class=\"dataframe\">\n",
       "<caption>A tibble: 6 × 1</caption>\n",
       "<thead>\n",
       "\t<tr><th scope=col>table_name</th></tr>\n",
       "\t<tr><th scope=col>&lt;chr&gt;</th></tr>\n",
       "</thead>\n",
       "<tbody>\n",
       "\t<tr><td>tbl_YAS_111</td></tr>\n",
       "\t<tr><td>tbl_YAS_999</td></tr>\n",
       "\t<tr><td>tbl_YAS_CAD</td></tr>\n",
       "\t<tr><td>tbl_YAS_EPR</td></tr>\n",
       "\t<tr><td>tbl_YAS_IUC</td></tr>\n",
       "\t<tr><td>tbl_YAS_PTS</td></tr>\n",
       "</tbody>\n",
       "</table>\n"
      ],
      "text/latex": [
       "A tibble: 6 × 1\n",
       "\\begin{tabular}{l}\n",
       " table\\_name\\\\\n",
       " <chr>\\\\\n",
       "\\hline\n",
       "\t tbl\\_YAS\\_111\\\\\n",
       "\t tbl\\_YAS\\_999\\\\\n",
       "\t tbl\\_YAS\\_CAD\\\\\n",
       "\t tbl\\_YAS\\_EPR\\\\\n",
       "\t tbl\\_YAS\\_IUC\\\\\n",
       "\t tbl\\_YAS\\_PTS\\\\\n",
       "\\end{tabular}\n"
      ],
      "text/markdown": [
       "\n",
       "A tibble: 6 × 1\n",
       "\n",
       "| table_name &lt;chr&gt; |\n",
       "|---|\n",
       "| tbl_YAS_111 |\n",
       "| tbl_YAS_999 |\n",
       "| tbl_YAS_CAD |\n",
       "| tbl_YAS_EPR |\n",
       "| tbl_YAS_IUC |\n",
       "| tbl_YAS_PTS |\n",
       "\n"
      ],
      "text/plain": [
       "  table_name \n",
       "1 tbl_YAS_111\n",
       "2 tbl_YAS_999\n",
       "3 tbl_YAS_CAD\n",
       "4 tbl_YAS_EPR\n",
       "5 tbl_YAS_IUC\n",
       "6 tbl_YAS_PTS"
      ]
     },
     "metadata": {},
     "output_type": "display_data"
    },
    {
     "name": "stdout",
     "output_type": "stream",
     "text": [
      "[1] \"builder table yhcr-prd-phm-bia-core.CB_FDM_YAS_V1 done 2023-05-11 09:41:29\"\n"
     ]
    }
   ],
   "source": [
    "#New section to build user table loop \n",
    "\n",
    "#Your loop references this table\n",
    "#You run this to load the list of tables into the dataframe \"table\"\n",
    "\n",
    "sql3 <-paste('select distinct table_name  from ' ,sourcedb,'.INFORMATION_SCHEMA.COLUMNS where table_name like \\'tbl%\\' and column_name = \\'person_id\\' order by table_name ;', sep = \"\")\n",
    "tb3 <- bq_project_query(project_id, sql3)\n",
    "\n",
    "table <- bq_table_download(tb3)\n",
    "table \n",
    "\n",
    "\n",
    "\n",
    "eric <- paste(\"builder table \" ,  targetdb ,\" done \" ,Sys.time() + hours(1) ,sep = \"\")\n",
    "print (eric)\n",
    "\n"
   ]
  },
  {
   "cell_type": "code",
   "execution_count": 12,
   "id": "63a2ff19-3f57-4477-ba7c-c4c471c795db",
   "metadata": {},
   "outputs": [
    {
     "name": "stdout",
     "output_type": "stream",
     "text": [
      "[1] \"Done tmp_persons yhcr-prd-phm-bia-core.CB_FDM_YAS_V1 2023-05-11 09:43:37\"\n"
     ]
    }
   ],
   "source": [
    "#This then loops through the data frame until the end\n",
    "# uses the two variables table[[i, 1]] and table[[i, 2]]\n",
    "# in the query\n",
    "\n",
    "sql4 <-paste('drop table if exists ',targetdb,'.tmp_persons;', sep = \"\")\n",
    "tb4 <-bq_project_query(project_id, sql4)\n",
    "\n",
    "\n",
    "sql5 <-paste('create table ',targetdb,'.tmp_persons \n",
    "(person_id int64);', sep = \"\")\n",
    "tb5 <-bq_project_query(project_id, sql5)\n",
    "#print(tb5)\n",
    "\n",
    "\n",
    "#Loops through all the data tables to build a list of unique person_ids from all of them \n",
    "\n",
    "for(i in 1:nrow(table)) \n",
    "{\n",
    "# for-loop over columns\n",
    "    #print(paste0(\"Table: \", table[[i, 1]]))\n",
    "    temp_sql_query  <-paste('insert into ',targetdb,'.tmp_persons select distinct cast(person_id as int64)  from ' ,sourcedb,'.',table[[i, 1]] ,';' , sep = \"\") \n",
    "    temp_queried_table <- bq_project_query(project_id, temp_sql_query)\n",
    "    temp_table <- bq_table_download(temp_queried_table)\n",
    "    #print(paste0(\"done \", temp_table[[1, 1]]))\n",
    "    #cat(\"\\n\")\n",
    "}\n",
    "\n",
    "\n",
    "eric <- paste(\"Done tmp_persons \" ,  targetdb ,\" \" ,Sys.time() + hours(1) ,sep = \"\")\n",
    "print (eric)\n"
   ]
  },
  {
   "cell_type": "code",
   "execution_count": 13,
   "id": "4e46b7bc-089a-4537-922e-e56e5924502c",
   "metadata": {},
   "outputs": [
    {
     "name": "stdout",
     "output_type": "stream",
     "text": [
      "[1] \"person table yhcr-prd-phm-bia-core.CB_FDM_YAS_V1 built 2023-05-11 09:46:23\"\n"
     ]
    }
   ],
   "source": [
    "#Now build the persons table \n",
    "\n",
    "sql11 <-paste('drop table if exists ' ,targetdb,'.person', sep = \"\")\n",
    "tb11 <- bq_project_query(project_id, sql11)\n",
    "\n",
    "\n",
    "sql12 <-paste('create table ' ,targetdb,'.person \n",
    "as \n",
    "SELECT distinct a.person_id\n",
    ", gender_concept_id\n",
    ", year_of_birth\n",
    ", month_of_birth\n",
    ", day_of_birth\n",
    ", birth_datetime\n",
    ", death_datetime\n",
    ", race_concept_id\n",
    ", ethnicity_concept_id\n",
    ", location_id\n",
    ", provider_id\n",
    ", care_site_id\n",
    ", person_source_value\n",
    ", gender_source_value\n",
    ", gender_source_concept_id\n",
    ", race_source_value\n",
    ", race_source_concept_id\n",
    ", ethnicity_source_value\n",
    ", ethnicity_source_concept_id \n",
    "FROM yhcr-prd-phm-bia-core.CB_FDM_MASTER.person a\n",
    ",',targetdb,'.tmp_persons b where a.person_id =  b.person_id' , sep = \"\")\n",
    "\n",
    "tb12 <- bq_project_query(project_id, sql12)\n",
    "#print(sql12)\n",
    "\n",
    "\n",
    "eric <- paste(\"person table \" ,  targetdb ,\" built \" ,Sys.time() + hours(1) ,sep = \"\")\n",
    "print (eric)\n",
    "\n"
   ]
  },
  {
   "cell_type": "code",
   "execution_count": null,
   "id": "713db6fa-d83d-4b57-b404-9935bb63f453",
   "metadata": {},
   "outputs": [],
   "source": [
    "#Ensure you have updated the lookup table ie\n",
    "#sql14 <- \"update `yhcr-prd-phm-bia-core.CY_LOOKUPS.tbl_Dataset_ExtractDateRef` set extract_date = '2023-02-07' where DatasetName = 'CB_STAGING_DATABASE_YAS_FDM_Format'\"  \n",
    "\n",
    "#tb14 <- bq_project_query(project_id, sql14)"
   ]
  },
  {
   "cell_type": "code",
   "execution_count": 15,
   "id": "84db12a9-0f81-43ec-b3f0-53dfaf11c926",
   "metadata": {},
   "outputs": [
    {
     "name": "stdout",
     "output_type": "stream",
     "text": [
      "[1] \"temp event dates yhcr-prd-phm-bia-core.CB_FDM_YAS_V1 built 2023-05-11 09:52:33\"\n"
     ]
    }
   ],
   "source": [
    "\n",
    "\n",
    "#This query makes the observation period based on the persons table BUT adds in rules for this data extract.\n",
    "#This query makes the observation period based on the persons table BUT adds in rules for this data extract.\n",
    "\n",
    "#Qmak_PrimaryCareObservationPeriod_Part1\n",
    "\n",
    "sql15 <-paste('drop table if exists ' ,targetdb,'.tmp_Eventdates' , sep = \"\")\n",
    "sql16 <-paste('drop table if exists ' ,targetdb,'.tmp_EventdatesValid' , sep = \"\")\n",
    "sql17 <-paste('truncate table ' ,targetdb,'.observation_period' , sep = \"\")\n",
    "\n",
    "tb15 <-bq_project_query(project_id, sql15)\n",
    "tb16 <-bq_project_query(project_id, sql16)\n",
    "tb17 <-bq_project_query(project_id, sql17)\n",
    "\n",
    "#This just builds a temp table for later use \n",
    "sql18 <-paste('create table ',targetdb,'.tmp_Eventdates \n",
    "(person_id int64\n",
    ", EventDate Datetime) ' , sep = \"\")\n",
    "tb18 <-bq_project_query(project_id, sql18)\n",
    "\n",
    "\n",
    "eric <- paste(\"temp event dates \" ,  targetdb ,\" built \" ,Sys.time() + hours(1) ,sep = \"\")\n",
    "print (eric)\n"
   ]
  },
  {
   "cell_type": "code",
   "execution_count": 16,
   "id": "2b4121cb-958e-45eb-a699-f849ad3aedbb",
   "metadata": {},
   "outputs": [
    {
     "name": "stdout",
     "output_type": "stream",
     "text": [
      "[1] \"start dates yhcr-prd-phm-bia-core.CB_FDM_YAS_V1 done 2023-05-11 09:53:03\"\n"
     ]
    }
   ],
   "source": [
    "#Loop through the user tables\n",
    "#selecting person_id and date from and date to for each of them.\n",
    "\n",
    "#start_date_first\n",
    "for(i in 1:nrow(table)) \n",
    "{\n",
    "# for-loop over columns\n",
    "    #print(paste0(\"Table: \", table[[i, 1]]))\n",
    "    temp_sql_query  <-paste('insert into ',targetdb,'.tmp_Eventdates select distinct cast(person_id as int64) as person_id, ',table[[i, 1]] ,'_start_date from ' ,sourcedb,'.',table[[i, 1]] ,' where person_id is not null;' , sep = \"\") \n",
    "    temp_queried_table <- bq_project_query(project_id, temp_sql_query)\n",
    "    #temp_table <- bq_table_download(temp_queried_table)\n",
    "    #print(temp_sql_query)\n",
    "    #print(paste0(\"done \", temp_table[[i, 1]]))\n",
    "    #cat(\"\\n\")\n",
    "}\n",
    "\n",
    "eric <- paste(\"start dates \" ,  targetdb ,\" done \" ,Sys.time() + hours(1) ,sep = \"\")\n",
    "print (eric)\n"
   ]
  },
  {
   "cell_type": "code",
   "execution_count": 17,
   "id": "d8288873-9ebd-42dc-9c04-9435ffbfa7ef",
   "metadata": {},
   "outputs": [
    {
     "name": "stdout",
     "output_type": "stream",
     "text": [
      "[1] \"end dates yhcr-prd-phm-bia-core.CB_FDM_YAS_V1 done 2023-05-11 09:54:16\"\n"
     ]
    }
   ],
   "source": [
    "#Now do end date\n",
    "for(i in 1:nrow(table)) \n",
    "{\n",
    "# for-loop over columns\n",
    "    #print(paste0(\"Table: \", table[[i, 1]]))\n",
    "    temp_sql_query  <-paste('insert into ',targetdb,'.tmp_Eventdates select distinct cast(person_id as int64) as person_id, ',table[[i, 1]] ,'_end_date from ' ,sourcedb,'.',table[[i, 1]] ,' where person_id is not null ;' , sep = \"\") \n",
    "    temp_queried_table <- bq_project_query(project_id, temp_sql_query)\n",
    "    #temp_table <- bq_table_download(temp_queried_table)\n",
    "    #print(temp_sql_query)\n",
    "    #print(paste0(\"done \", temp_table[[i, 1]]))\n",
    "    #cat(\"\\n\")\n",
    "}\n",
    "eric <- paste(\"end dates \" ,  targetdb ,\" done \" ,Sys.time() + hours(1) ,sep = \"\")\n",
    "print (eric)"
   ]
  },
  {
   "cell_type": "code",
   "execution_count": 18,
   "id": "5d590ab2-de85-4b45-b5e5-562ebdf70a02",
   "metadata": {},
   "outputs": [
    {
     "name": "stdout",
     "output_type": "stream",
     "text": [
      "[1] \"Temp valid dates yhcr-prd-phm-bia-core.CB_FDM_YAS_V1 built 2023-05-11 09:56:44\"\n",
      "[1] \"observation period yhcr-prd-phm-bia-core.CB_FDM_YAS_V1 built 2023-05-11 09:57:04\"\n",
      "[1] \"invalid people yhcr-prd-phm-bia-core.CB_FDM_YAS_V1 removed 2023-05-11 09:57:09\"\n"
     ]
    }
   ],
   "source": [
    "\n",
    "sql24 <-paste('create table ',targetdb,'.tmp_EventdatesValid\n",
    "as\n",
    "select distinct a.person_id\n",
    ",cast(a.EventDate as date) as EventDate\n",
    "from ',targetdb,'.tmp_Eventdates a ,' \n",
    ",targetdb,'.person e \n",
    "where e.person_id = a.person_id \n",
    "and e.death_datetime is not null \n",
    "and a.EventDate >= e.birth_datetime\n",
    "and a.EventDate <= date_add(e.death_datetime, INTERVAL 42 day) \n",
    "and a.EventDate <= (Select extract_date from yhcr-prd-phm-bia-core.CB_LOOKUPS.tbl_Dataset_ExtractDateRef where DatasetName = \\'CB_STAGING_DATABASE_YAS_FDM_Format\\')', sep = \"\")\n",
    "\n",
    "\n",
    "#-- BUT this only includes persons with a death datetime\n",
    "#-- So section below includes those with a null deathdatetime\n",
    "\n",
    "sql25 <-paste('insert into ',targetdb,'.tmp_EventdatesValid\n",
    "select distinct a.person_id\n",
    ", cast(a.EventDate as date) as EventDate\n",
    "from ',targetdb,'.tmp_Eventdates a\n",
    ",' ,targetdb,'.person e \n",
    "where e.person_id = a.person_id \n",
    "and e.death_datetime is null \n",
    "and a.EventDate >= e.birth_datetime\n",
    "and a.EventDate <= (Select extract_date from yhcr-prd-phm-bia-core.CB_LOOKUPS.tbl_Dataset_ExtractDateRef where DatasetName = \\'CB_STAGING_DATABASE_YAS_FDM_Format\\')', sep = \"\")\n",
    "\n",
    "eric <- paste(\"Temp valid dates \" ,  targetdb ,\" built \" ,Sys.time() + hours(1) ,sep = \"\")\n",
    "print (eric)\n",
    "\n",
    "\n",
    "\n",
    "#third part pushes these into the observation_period table\n",
    "\n",
    "sql26 <-paste('insert into ' ,targetdb,'.observation_period\n",
    "select distinct\n",
    "ROW_NUMBER() over (Order by person_id) as observation_period_id \n",
    ", person_id\n",
    ", min(EventDate) as observation_period_start_date\n",
    ", max(EventDate) as observation_period_end_date\n",
    ",null as period_type_concept_id\n",
    "from ',targetdb,'.tmp_EventdatesValid\n",
    "group by person_id', sep = \"\")\n",
    "\n",
    "#Finally Run these sql's\n",
    "\n",
    "\n",
    "tb24 <-bq_project_query(project_id, sql24)\n",
    "tb25 <-bq_project_query(project_id, sql25)\n",
    "tb26 <-bq_project_query(project_id, sql26)\n",
    "\n",
    "eric <- paste(\"observation period \" ,  targetdb ,\" built \" ,Sys.time() + hours(1) ,sep = \"\")\n",
    "print (eric)\n",
    "\n",
    "# Now remove from person table where there is no observation period\n",
    "# This happens where there is patient data but no actual records \n",
    "# or there is patient data but no dob \n",
    "\n",
    "sql26a <-paste(' delete from ' ,targetdb,'.person where person_id\n",
    "not in (select person_id from ', targetdb, ' . observation_period)', sep = \"\")\n",
    "\n",
    "tb26a <-bq_project_query(project_id, sql26a) \n",
    "\n",
    "eric <- paste(\"invalid people \" ,  targetdb ,\" removed \" ,Sys.time() + hours(1) ,sep = \"\")\n",
    "print (eric)\n",
    "\n"
   ]
  },
  {
   "cell_type": "code",
   "execution_count": 19,
   "id": "f6873ad4-1f2e-422a-bb58-b00a3e06c17a",
   "metadata": {},
   "outputs": [
    {
     "name": "stdout",
     "output_type": "stream",
     "text": [
      "[1] \"user tables  yhcr-prd-phm-bia-core.CB_FDM_YAS_V1 removed 2023-05-11 09:57:33\"\n"
     ]
    }
   ],
   "source": [
    "# As the tables are all fdm ready we can just copy them into the FDM space\n",
    "# once we've dropped them - if they exist ! \n",
    "# So drop loop next \n",
    "\n",
    "#start drop them first\n",
    "for(i in 1:nrow(table)) \n",
    "{\n",
    "# for-loop over columns\n",
    "    #print(paste0(\"Table: \", table[[i, 1]]))\n",
    "    temp_sql_query  <-paste('drop table if exists ',targetdb,'.', table[[i, 1]] ,';' , sep = \"\") \n",
    "    temp_queried_table <- bq_project_query(project_id, temp_sql_query)\n",
    "    #temp_table <- bq_table_download(temp_queried_table)\n",
    "    #print(temp_sql_query)\n",
    "    #print(paste0(\"done \", temp_table[[i, 1]]))\n",
    "    #cat(\"\\n\")\n",
    "}\n",
    "\n",
    "eric <- paste(\"user tables  \" ,  targetdb ,\" removed \" ,Sys.time() + hours(1) ,sep = \"\")\n",
    "print (eric)\n"
   ]
  },
  {
   "cell_type": "code",
   "execution_count": 21,
   "id": "d9f8ffe8-7b6c-4627-a8e0-70010a7b1d21",
   "metadata": {},
   "outputs": [
    {
     "name": "stdout",
     "output_type": "stream",
     "text": [
      "[1] \"user tables  yhcr-prd-phm-bia-core.CB_FDM_YAS_V1 built 2023-05-11 10:29:34\"\n"
     ]
    }
   ],
   "source": [
    "#Now build them \n",
    "for(i in 1:nrow(table)) \n",
    "{\n",
    "# for-loop over columns\n",
    "    #print(paste0(\"Table: \", table[[i, 1]]))\n",
    "    temp_sql_query  <-paste('create table ',targetdb,'.',table[[i, 1]] ,' as select src.* except(digest) from ' ,sourcedb,'.',table[[i, 1]],' src \n",
    "    , ',targetdb,'.observation_period obs where cast(src.person_id as int64)  = obs.person_id \n",
    "    and src.',table[[i, 1]],'_end_date <= obs.observation_period_end_date  \n",
    "    and src.',table[[i, 1]],'_start_date >= obs.observation_period_start_date', sep = \"\")\n",
    "    #print(temp_sql_query)\n",
    "    temp_queried_table <- bq_project_query(project_id, temp_sql_query)\n",
    "    #temp_table <- bq_table_download(temp_queried_table)\n",
    "    #print(paste0(\"done \", temp_table[[i, 1]]))\n",
    "    #cat(\"\\n\")\n",
    "}\n",
    "\n",
    "eric <- paste(\"user tables  \" ,  targetdb ,\" built \" ,Sys.time() + hours(1) ,sep = \"\")\n",
    "print (eric)\n",
    "\n",
    "#But this only works for those tables with a tbl_prefix containing person_id \n",
    "# so we need to manually mop up the ones that don't."
   ]
  },
  {
   "cell_type": "code",
   "execution_count": 22,
   "id": "b5b4d36c-7eed-48a5-bac3-84a158e526a4",
   "metadata": {},
   "outputs": [
    {
     "ename": "ERROR",
     "evalue": "\u001b[1m\u001b[33mError\u001b[39m in `vectbl_as_row_location2()`:\u001b[22m\n\u001b[33m!\u001b[39m Can't extract rows past the end.\n\u001b[1m\u001b[22m\u001b[36mℹ\u001b[39m Location 1 doesn't exist.\n\u001b[36mℹ\u001b[39m There are only 0 rows.\n",
     "output_type": "error",
     "traceback": [
      "\u001b[1m\u001b[33mError\u001b[39m in `vectbl_as_row_location2()`:\u001b[22m\n\u001b[33m!\u001b[39m Can't extract rows past the end.\n\u001b[1m\u001b[22m\u001b[36mℹ\u001b[39m Location 1 doesn't exist.\n\u001b[36mℹ\u001b[39m There are only 0 rows.\nTraceback:\n",
      "1. paste(\"drop table if exists \", targetdb, \".\", table2[[i, 1]], \n .     \";\", sep = \"\")",
      "2. table2[[i, 1]]",
      "3. `[[.tbl_df`(table2, i, 1)",
      "4. vectbl_as_row_location2(i, fast_nrow(x), i_arg)",
      "5. subclass_row_index_errors(vec_as_location2(i, n), i_arg = i_arg, \n .     assign = assign)",
      "6. withCallingHandlers(expr, vctrs_error_subscript = function(cnd) {\n .     cnd$subscript_arg <- i_arg\n .     cnd$subscript_elt <- \"row\"\n .     if (isTRUE(assign) && !isTRUE(cnd$subscript_action %in% c(\"negate\"))) {\n .         cnd$subscript_action <- \"assign\"\n .     }\n .     cnd_signal(cnd)\n . })",
      "7. vec_as_location2(i, n)",
      "8. result_get(vec_as_location2_result(i, n = n, names = names, negative = \"error\", \n .     missing = missing, arg = arg, call = call))",
      "9. cnd_signal(x$err)",
      "10. signal_abort(cnd)",
      "11. signalCondition(cnd)",
      "12. (function (cnd) \n  . {\n  .     cnd$subscript_arg <- i_arg\n  .     cnd$subscript_elt <- \"row\"\n  .     if (isTRUE(assign) && !isTRUE(cnd$subscript_action %in% c(\"negate\"))) {\n  .         cnd$subscript_action <- \"assign\"\n  .     }\n  .     cnd_signal(cnd)\n  . })(structure(list(message = \"\", trace = structure(list(call = list(\n  .     IRkernel::main(), kernel$run(), handle_shell(), executor$execute(msg), \n  .     tryCatch(evaluate(request$content$code, envir = .GlobalEnv, \n  .         output_handler = oh, stop_on_error = 1L), interrupt = function(cond) {\n  .         log_debug(\"Interrupt during execution\")\n  .         interrupted <<- TRUE\n  .     }, error = .self$handle_error), tryCatchList(expr, classes, \n  .         parentenv, handlers), tryCatchOne(tryCatchList(expr, \n  .         names[-nh], parentenv, handlers[-nh]), names[nh], parentenv, \n  .         handlers[[nh]]), doTryCatch(return(expr), name, parentenv, \n  .         handler), tryCatchList(expr, names[-nh], parentenv, handlers[-nh]), \n  .     tryCatchOne(expr, names, parentenv, handlers[[1L]]), doTryCatch(return(expr), \n  .         name, parentenv, handler), evaluate(request$content$code, \n  .         envir = .GlobalEnv, output_handler = oh, stop_on_error = 1L), \n  .     evaluate_call(expr, parsed$src[[i]], envir = envir, enclos = enclos, \n  .         debug = debug, last = i == length(out), use_try = stop_on_error != \n  .             2L, keep_warning = keep_warning, keep_message = keep_message, \n  .         output_handler = output_handler, include_timing = include_timing), \n  .     timing_fn(handle(ev <- withCallingHandlers(withVisible(eval_with_user_handlers(expr, \n  .         envir, enclos, user_handlers)), warning = wHandler, error = eHandler, \n  .         message = mHandler))), handle(ev <- withCallingHandlers(withVisible(eval_with_user_handlers(expr, \n  .         envir, enclos, user_handlers)), warning = wHandler, error = eHandler, \n  .         message = mHandler)), try(f, silent = TRUE), tryCatch(expr, \n  .         error = function(e) {\n  .             call <- conditionCall(e)\n  .             if (!is.null(call)) {\n  .                 if (identical(call[[1L]], quote(doTryCatch))) \n  .                   call <- sys.call(-4L)\n  .                 dcall <- deparse(call)[1L]\n  .                 prefix <- paste(\"Error in\", dcall, \": \")\n  .                 LONG <- 75L\n  .                 sm <- strsplit(conditionMessage(e), \"\\n\")[[1L]]\n  .                 w <- 14L + nchar(dcall, type = \"w\") + nchar(sm[1L], \n  .                   type = \"w\")\n  .                 if (is.na(w)) \n  .                   w <- 14L + nchar(dcall, type = \"b\") + nchar(sm[1L], \n  .                     type = \"b\")\n  .                 if (w > LONG) \n  .                   prefix <- paste0(prefix, \"\\n  \")\n  .             }\n  .             else prefix <- \"Error : \"\n  .             msg <- paste0(prefix, conditionMessage(e), \"\\n\")\n  .             .Internal(seterrmessage(msg[1L]))\n  .             if (!silent && isTRUE(getOption(\"show.error.messages\"))) {\n  .                 cat(msg, file = outFile)\n  .                 .Internal(printDeferredWarnings())\n  .             }\n  .             invisible(structure(msg, class = \"try-error\", condition = e))\n  .         }), tryCatchList(expr, classes, parentenv, handlers), \n  .     tryCatchOne(expr, names, parentenv, handlers[[1L]]), doTryCatch(return(expr), \n  .         name, parentenv, handler), withCallingHandlers(withVisible(eval_with_user_handlers(expr, \n  .         envir, enclos, user_handlers)), warning = wHandler, error = eHandler, \n  .         message = mHandler), withVisible(eval_with_user_handlers(expr, \n  .         envir, enclos, user_handlers)), eval_with_user_handlers(expr, \n  .         envir, enclos, user_handlers), eval(expr, envir, enclos), \n  .     eval(expr, envir, enclos), paste(\"drop table if exists \", \n  .         targetdb, \".\", table2[[i, 1]], \";\", sep = \"\"), table2[[i, \n  .         1]], `[[.tbl_df`(table2, i, 1), vectbl_as_row_location2(i, \n  .         fast_nrow(x), i_arg), subclass_row_index_errors(vec_as_location2(i, \n  .         n), i_arg = i_arg, assign = assign), withCallingHandlers(expr, \n  .         vctrs_error_subscript = function(cnd) {\n  .             cnd$subscript_arg <- i_arg\n  .             cnd$subscript_elt <- \"row\"\n  .             if (isTRUE(assign) && !isTRUE(cnd$subscript_action %in% \n  .                 c(\"negate\"))) {\n  .                 cnd$subscript_action <- \"assign\"\n  .             }\n  .             cnd_signal(cnd)\n  .         }), vec_as_location2(i, n), result_get(vec_as_location2_result(i, \n  .         n = n, names = names, negative = \"error\", missing = missing, \n  .         arg = arg, call = call)), vec_as_location2_result(i, \n  .         n = n, names = names, negative = \"error\", missing = missing, \n  .         arg = arg, call = call), tryCatch(vec_as_location(i, \n  .         n, names = names, arg = arg, call = call), vctrs_error_subscript = function(err) {\n  .         err[[\"subscript_scalar\"]] <- TRUE\n  .         err <<- err\n  .         i\n  .     }), tryCatchList(expr, classes, parentenv, handlers), tryCatchOne(expr, \n  .         names, parentenv, handlers[[1L]]), doTryCatch(return(expr), \n  .         name, parentenv, handler), vec_as_location(i, n, names = names, \n  .         arg = arg, call = call), `<fn>`(), stop_subscript_oob(i = i, \n  .         subscript_type = subscript_type, size = size, subscript_action = subscript_action, \n  .         subscript_arg = subscript_arg, call = call), stop_subscript(class = \"vctrs_error_subscript_oob\", \n  .         i = i, subscript_type = subscript_type, ..., call = call), \n  .     abort(class = c(class, \"vctrs_error_subscript\"), i = i, ..., \n  .         call = vctrs_error_call(call))), parent = c(0L, 1L, 2L, \n  . 3L, 4L, 5L, 6L, 7L, 6L, 9L, 10L, 4L, 12L, 13L, 13L, 15L, 16L, \n  . 17L, 18L, 19L, 13L, 13L, 13L, 23L, 24L, 0L, 0L, 0L, 28L, 29L, \n  . 30L, 29L, 32L, 32L, 34L, 35L, 36L, 37L, 34L, 0L, 40L, 41L, 42L\n  . ), visible = c(TRUE, TRUE, TRUE, TRUE, TRUE, TRUE, TRUE, TRUE, \n  . TRUE, TRUE, TRUE, TRUE, TRUE, TRUE, TRUE, TRUE, TRUE, TRUE, TRUE, \n  . TRUE, TRUE, TRUE, TRUE, TRUE, TRUE, TRUE, TRUE, TRUE, TRUE, FALSE, \n  . FALSE, FALSE, FALSE, FALSE, FALSE, FALSE, FALSE, FALSE, FALSE, \n  . FALSE, FALSE, FALSE, FALSE), namespace = c(\"IRkernel\", NA, \"IRkernel\", \n  . NA, \"base\", \"base\", \"base\", \"base\", \"base\", \"base\", \"base\", \"evaluate\", \n  . \"evaluate\", \"evaluate\", \"evaluate\", \"base\", \"base\", \"base\", \"base\", \n  . \"base\", \"base\", \"base\", \"evaluate\", \"base\", \"base\", \"base\", NA, \n  . \"tibble\", \"tibble\", \"tibble\", \"base\", \"vctrs\", \"vctrs\", \"vctrs\", \n  . \"base\", \"base\", \"base\", \"base\", \"vctrs\", \"vctrs\", \"vctrs\", \"vctrs\", \n  . \"rlang\"), scope = c(\"::\", NA, \"local\", NA, \"::\", \"local\", \"local\", \n  . \"local\", \"local\", \"local\", \"local\", \"::\", \":::\", \"local\", \"local\", \n  . \"::\", \"::\", \"local\", \"local\", \"local\", \"::\", \"::\", \":::\", \"::\", \n  . \"::\", \"::\", NA, \":::\", \":::\", \":::\", \"::\", \"::\", \":::\", \":::\", \n  . \"::\", \"local\", \"local\", \"local\", \"::\", \"local\", \":::\", \":::\", \n  . \"::\"), error_frame = c(FALSE, FALSE, FALSE, FALSE, FALSE, FALSE, \n  . FALSE, FALSE, FALSE, FALSE, FALSE, FALSE, FALSE, FALSE, FALSE, \n  . FALSE, FALSE, FALSE, FALSE, FALSE, FALSE, FALSE, FALSE, FALSE, \n  . FALSE, FALSE, FALSE, FALSE, TRUE, FALSE, FALSE, FALSE, FALSE, \n  . FALSE, FALSE, FALSE, FALSE, FALSE, FALSE, FALSE, FALSE, FALSE, \n  . FALSE)), row.names = c(NA, -43L), version = 2L, class = c(\"rlang_trace\", \n  . \"rlib_trace\", \"tbl\", \"data.frame\")), parent = NULL, i = 1L, subscript_type = \"numeric\", \n  .     size = 0L, subscript_action = NULL, subscript_arg = \"i\", \n  .     call = vectbl_as_row_location2(i, fast_nrow(x), i_arg), subscript_scalar = TRUE), class = c(\"vctrs_error_subscript_oob\", \n  . \"vctrs_error_subscript\", \"rlang_error\", \"error\", \"condition\")))",
      "13. cnd_signal(cnd)",
      "14. signal_abort(cnd)"
     ]
    }
   ],
   "source": [
    "#Section to build non tbl_ user tables \n",
    "#these are also ones with no person_id, proper dates, or derived tables  \n",
    "\n",
    "#Your loop references these tables\n",
    "#You run this to load the list of tables into the dataframe \"table\"\n",
    "\n",
    "sql3 <-paste('select distinct table_name  from ' ,sourcedb,'.INFORMATION_SCHEMA.COLUMNS where table_name like \\'cb%\\' order by table_name ;', sep = \"\")\n",
    "tb3 <- bq_project_query(project_id, sql3)\n",
    "\n",
    "table2 <- bq_table_download(tb3)\n",
    "#table2\n",
    "\n",
    "#Drop them first\n",
    "for(i in 1:nrow(table2)) \n",
    "{\n",
    "# for-loop over columns\n",
    "    #print(paste0(\"Table: \", table2[[i, 1]]))\n",
    "    temp_sql_query  <-paste('drop table if exists ',targetdb,'.', table2[[i, 1]] ,';' , sep = \"\") \n",
    "    temp_queried_table <- bq_project_query(project_id, temp_sql_query)\n",
    "    #temp_table <- bq_table_download(temp_queried_table)\n",
    "    #print(temp_sql_query)\n",
    "    #print(paste0(\"done \", temp_table[[i, 1]]))\n",
    "    #cat(\"\\n\")\n",
    "}\n",
    "\n",
    "eric <- paste(\"cb tables \" ,  targetdb ,\" dropped \" ,Sys.time() + hours(1) ,sep = \"\")\n",
    "print (eric)\n",
    "\n",
    "print('Done dropping cb tables')\n",
    "\n",
    "#Now build them \n",
    "for(i in 1:nrow(table2)) \n",
    "{\n",
    "# for-loop over columns\n",
    "    #print(paste0(\"Table: \", table2[[i, 1]]))\n",
    "    temp_sql_query  <-paste('create table ',targetdb,'.',table2[[i, 1]] ,' as select src.* from ' ,sourcedb,'.',table2[[i, 1]],' src', sep = \"\")\n",
    "    #print(temp_sql_query)\n",
    "    temp_queried_table <- bq_project_query(project_id, temp_sql_query)\n",
    "    #temp_table <- bq_table_download(temp_queried_table)\n",
    "    #print(paste0(\"done \", temp_table[[i, 1]]))\n",
    "    #cat(\"\\n\")\n",
    "}\n",
    "\n",
    "fred <-paste('Done building cb tables  ' ,Sys.time() + hours(1), sep = \"\")\n",
    "print (fred)\n",
    "\n",
    "#Section to build user tables with no person_id or derived tables  \n",
    "#These are specifically referenced\n"
   ]
  },
  {
   "cell_type": "code",
   "execution_count": 23,
   "id": "489e9272-cab5-4998-979f-b38e04031a6c",
   "metadata": {},
   "outputs": [
    {
     "name": "stdout",
     "output_type": "stream",
     "text": [
      "[1] \"temp tables dropped\"\n"
     ]
    }
   ],
   "source": [
    "sql90 <-paste('drop table if exists ',targetdb,'.tmp_persons;', sep = \"\")\n",
    "tb90 <-bq_project_query(project_id, sql90)\n",
    "\n",
    "sql91 <-paste('drop table if exists ',targetdb,'.tmp_Eventdates;', sep = \"\")\n",
    "tb91 <-bq_project_query(project_id, sql91)\n",
    "\n",
    "sql92 <-paste('drop table if exists ',targetdb,'.tmp_EventdatesValid;', sep = \"\")\n",
    "tb92 <-bq_project_query(project_id, sql92)\n",
    "\n",
    "print(\"temp tables dropped\")"
   ]
  },
  {
   "cell_type": "code",
   "execution_count": 24,
   "id": "d7a5afbd-8d24-446f-9478-44426675774a",
   "metadata": {},
   "outputs": [
    {
     "name": "stdout",
     "output_type": "stream",
     "text": [
      "[1] \"FDM Build of yhcr-prd-phm-bia-core.CB_FDM_YAS_V1 finished\"\n"
     ]
    }
   ],
   "source": [
    "\n",
    "fred <-paste('FDM Build of',targetdb,'finished')\n",
    "print (fred)"
   ]
  }
 ],
 "metadata": {
  "environment": {
   "kernel": "ir",
   "name": "r-cpu.4-1.m90",
   "type": "gcloud",
   "uri": "gcr.io/deeplearning-platform-release/r-cpu.4-1:m90"
  },
  "kernelspec": {
   "display_name": "R",
   "language": "R",
   "name": "ir"
  },
  "language_info": {
   "codemirror_mode": "r",
   "file_extension": ".r",
   "mimetype": "text/x-r-source",
   "name": "R",
   "pygments_lexer": "r",
   "version": "4.1.1"
  }
 },
 "nbformat": 4,
 "nbformat_minor": 5
}
